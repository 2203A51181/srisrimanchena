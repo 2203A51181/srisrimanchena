{
  "nbformat": 4,
  "nbformat_minor": 0,
  "metadata": {
    "colab": {
      "provenance": [],
      "authorship_tag": "ABX9TyNrBeFrM4SYUWnsLoKFYadt",
      "include_colab_link": true
    },
    "kernelspec": {
      "name": "python3",
      "display_name": "Python 3"
    },
    "language_info": {
      "name": "python"
    }
  },
  "cells": [
    {
      "cell_type": "markdown",
      "metadata": {
        "id": "view-in-github",
        "colab_type": "text"
      },
      "source": [
        "<a href=\"https://colab.research.google.com/github/2203A51181/srisrimanchena/blob/main/Week_1_Wed_30_07_docx.ipynb\" target=\"_parent\"><img src=\"https://colab.research.google.com/assets/colab-badge.svg\" alt=\"Open In Colab\"/></a>"
      ]
    },
    {
      "cell_type": "code",
      "execution_count": null,
      "metadata": {
        "id": "UFoPnnzV1Ka2"
      },
      "outputs": [],
      "source": []
    },
    {
      "cell_type": "code",
      "metadata": {
        "colab": {
          "base_uri": "https://localhost:8080/"
        },
        "id": "3db79f71",
        "outputId": "d6828615-5433-41b6-84ab-73f8d56f309e"
      },
      "source": [
        "import numpy as np\n",
        "import pandas as pd\n",
        "\n",
        "# Task 1: Data Creation and Categorization\n",
        "grades = np.array([67, 45, 88, 50, 39, 72, 54, 33, 90, 47])\n",
        "passing_threshold = 50\n",
        "grade_categories = np.where(grades >= passing_threshold, \"Pass\", \"Fail\")\n",
        "\n",
        "print(\"Student Grades:\", grades)\n",
        "print(\"Grade Categories:\", grade_categories)"
      ],
      "execution_count": 1,
      "outputs": [
        {
          "output_type": "stream",
          "name": "stdout",
          "text": [
            "Student Grades: [67 45 88 50 39 72 54 33 90 47]\n",
            "Grade Categories: ['Pass' 'Fail' 'Pass' 'Pass' 'Fail' 'Pass' 'Pass' 'Fail' 'Pass' 'Fail']\n"
          ]
        }
      ]
    }
  ]
}