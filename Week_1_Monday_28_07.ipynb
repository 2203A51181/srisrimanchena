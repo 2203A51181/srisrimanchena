{
  "nbformat": 4,
  "nbformat_minor": 0,
  "metadata": {
    "colab": {
      "provenance": [],
      "authorship_tag": "ABX9TyMJKVKs9GplFc1kATKcmiAv",
      "include_colab_link": true
    },
    "kernelspec": {
      "name": "python3",
      "display_name": "Python 3"
    },
    "language_info": {
      "name": "python"
    }
  },
  "cells": [
    {
      "cell_type": "markdown",
      "metadata": {
        "id": "view-in-github",
        "colab_type": "text"
      },
      "source": [
        "<a href=\"https://colab.research.google.com/github/2203A51181/srisrimanchena/blob/main/Week_1_Monday_28_07.ipynb\" target=\"_parent\"><img src=\"https://colab.research.google.com/assets/colab-badge.svg\" alt=\"Open In Colab\"/></a>"
      ]
    },
    {
      "cell_type": "markdown",
      "source": [
        "# Week-1_Monday Data Analysis using Python"
      ],
      "metadata": {
        "id": "96ILGblupEQI"
      }
    },
    {
      "cell_type": "code",
      "source": [],
      "metadata": {
        "id": "FEp2toO6n16O"
      },
      "execution_count": null,
      "outputs": []
    },
    {
      "cell_type": "code",
      "metadata": {
        "colab": {
          "base_uri": "https://localhost:8080/"
        },
        "id": "d83be3ee",
        "outputId": "2ad6ab06-ca44-40d9-f1cf-133a9e59265d"
      },
      "source": [
        "import pandas as pd\n",
        "\n",
        "# Create a list of 10 student marks\n",
        "student_marks = [35, 45, 55, 65, 30, 40, 50, 70, 80, 48]\n",
        "\n",
        "# Define a function to classify each score\n",
        "def classify_score(score):\n",
        "    if score < 40:\n",
        "        return \"Fail\"\n",
        "    elif 40 <= score < 50:\n",
        "        return \"Borderline\"\n",
        "    else:\n",
        "        return \"Pass\"\n",
        "\n",
        "# Apply the classification function and convert results to a pandas categorical column\n",
        "classifications = pd.Categorical([classify_score(mark) for mark in student_marks],\n",
        "                                 categories=[\"Fail\", \"Borderline\", \"Pass\"],\n",
        "                                 ordered=True)\n",
        "\n",
        "# Display the classifications\n",
        "print(\"Student Marks:\", student_marks)\n",
        "print(\"Classifications:\", classifications)"
      ],
      "execution_count": 4,
      "outputs": [
        {
          "output_type": "stream",
          "name": "stdout",
          "text": [
            "Student Marks: [35, 45, 55, 65, 30, 40, 50, 70, 80, 48]\n",
            "Classifications: ['Fail', 'Borderline', 'Pass', 'Pass', 'Fail', 'Borderline', 'Pass', 'Pass', 'Pass', 'Borderline']\n",
            "Categories (3, object): ['Fail' < 'Borderline' < 'Pass']\n"
          ]
        }
      ]
    },
    {
      "cell_type": "markdown",
      "source": [
        "# New Section"
      ],
      "metadata": {
        "id": "1wiNSNUpo_Zs"
      }
    },
    {
      "cell_type": "markdown",
      "source": [
        "[link text](https://)"
      ],
      "metadata": {
        "id": "8ZK1cSHipA_n"
      }
    }
  ]
}